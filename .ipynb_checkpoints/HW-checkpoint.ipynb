{
 "cells": [
  {
   "cell_type": "markdown",
   "id": "0ffb8f3d",
   "metadata": {},
   "source": [
    "https://www.codewars.com/kata/5208f99aee097e6552000148/train/python\n",
    "\n",
    "Break camelCase\n",
    "\n",
    "Complete the solution so that the function will break up camel casing, using a space between words."
   ]
  },
  {
   "cell_type": "code",
   "execution_count": null,
   "id": "cb8e4025",
   "metadata": {},
   "outputs": [],
   "source": [
    "def solution(s):\n",
    "    l = list(s) #liner\n",
    "    r=\"\" #constant\n",
    "    for i in l: #liner\n",
    "        if i.isupper():#liner\n",
    "            r +=\" \"#constant\n",
    "        r += i #constant                \n",
    "    return(r)"
   ]
  },
  {
   "cell_type": "markdown",
   "id": "afde79fc",
   "metadata": {},
   "source": [
    "https://www.codewars.com/kata/51edd51599a189fe7f000015/train/python\n",
    "\n",
    "Mean Square Error\n",
    "\n",
    "Complete the function that\n",
    "\n",
    "accepts two integer arrays of equal length\n",
    "compares the value each member in one array to the corresponding member in the other\n",
    "squares the absolute value difference between those two values\n",
    "and returns the average of those squared absolute value difference between each member pair.\n"
   ]
  },
  {
   "cell_type": "code",
   "execution_count": null,
   "id": "cd781c2d",
   "metadata": {},
   "outputs": [],
   "source": [
    "# def solution(array_a, array_b):\n",
    "#     l=[]#constant\n",
    "#     for i in range(len(array_a)):#liner\n",
    "\n",
    "#         l.append((abs(array_a[i] - array_b[i]))**2)#constant\n",
    "\n",
    "#     return sum(l)/len(l)\n",
    "''\n",
    "def solution(array_a, array_b):\n",
    "    return sum([(array_a[i] - array_b[i])**2 for i in range(len(array_a))])/len(array_a)"
   ]
  }
 ],
 "metadata": {
  "kernelspec": {
   "display_name": "Python 3 (ipykernel)",
   "language": "python",
   "name": "python3"
  },
  "language_info": {
   "codemirror_mode": {
    "name": "ipython",
    "version": 3
   },
   "file_extension": ".py",
   "mimetype": "text/x-python",
   "name": "python",
   "nbconvert_exporter": "python",
   "pygments_lexer": "ipython3",
   "version": "3.9.13"
  }
 },
 "nbformat": 4,
 "nbformat_minor": 5
}
